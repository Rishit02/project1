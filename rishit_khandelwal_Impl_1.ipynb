{
  "nbformat": 4,
  "nbformat_minor": 0,
  "metadata": {
    "colab": {
      "provenance": [],
      "collapsed_sections": [],
      "authorship_tag": "ABX9TyNEIloJcTGbbrGbz9Eb8DFw",
      "include_colab_link": true
    },
    "kernelspec": {
      "name": "python3",
      "display_name": "Python 3"
    },
    "language_info": {
      "name": "python"
    }
  },
  "cells": [
    {
      "cell_type": "markdown",
      "metadata": {
        "id": "view-in-github",
        "colab_type": "text"
      },
      "source": [
        "<a href=\"https://colab.research.google.com/github/Rishit02/project1/blob/main/rishit_khandelwal_Impl_1.ipynb\" target=\"_parent\"><img src=\"https://colab.research.google.com/assets/colab-badge.svg\" alt=\"Open In Colab\"/></a>"
      ]
    },
    {
      "cell_type": "code",
      "execution_count": null,
      "metadata": {
        "id": "hs5LFpuzbH-X"
      },
      "outputs": [],
      "source": [
        "# importing dependencies\n",
        "import numpy as np\n",
        "import pandas as pd\n",
        "from sklearn.svm import SVR\n",
        "from sklearn.svm import SVC\n",
        "from sklearn.model_selection import train_test_split\n"
      ]
    },
    {
      "cell_type": "code",
      "source": [
        "# getting stock data\n",
        "url = 'https://raw.githubusercontent.com/Rishit02/project1/main/NVDA%20(2).csv'\n",
        "df = pd.read_csv(url)\n",
        "# df.isnull().sum() # check if data has any null values\n",
        "df.index = df['Date']\n",
        "df = df[['Close']] # taking only the adjusted close price\n",
        "print(df.head())"
      ],
      "metadata": {
        "colab": {
          "base_uri": "https://localhost:8080/"
        },
        "id": "fnduNalSbV_G",
        "outputId": "3a4ff71f-14b9-41ef-c63b-f376db0bf0e4"
      },
      "execution_count": null,
      "outputs": [
        {
          "output_type": "stream",
          "name": "stdout",
          "text": [
            "                 Close\n",
            "Date                  \n",
            "2021-10-05  204.509995\n",
            "2021-10-06  207.000000\n",
            "2021-10-07  210.750000\n",
            "2021-10-08  208.309998\n",
            "2021-10-11  206.949997\n"
          ]
        }
      ]
    },
    {
      "cell_type": "code",
      "source": [],
      "metadata": {
        "id": "404Vb8FqbmRo"
      },
      "execution_count": null,
      "outputs": []
    },
    {
      "cell_type": "code",
      "source": [
        "# how many days out in the future do you want to predict\n",
        "forecast_days = 10 # n days out into the future\n",
        "# create another target column for the dependent variable (shifted n units up)\n",
        "df['Prediction'] = df[['Close']].shift(-forecast_days)\n",
        "print(df)"
      ],
      "metadata": {
        "colab": {
          "base_uri": "https://localhost:8080/"
        },
        "id": "wYriddzPcPb7",
        "outputId": "14cc0790-dcc6-4a70-cfd8-7923cdffa870"
      },
      "execution_count": null,
      "outputs": [
        {
          "output_type": "stream",
          "name": "stdout",
          "text": [
            "                 Close  Prediction\n",
            "Date                              \n",
            "2021-10-05  204.509995  222.899994\n",
            "2021-10-06  207.000000  221.029999\n",
            "2021-10-07  210.750000  226.919998\n",
            "2021-10-08  208.309998  227.259995\n",
            "2021-10-11  206.949997  231.660004\n",
            "...                ...         ...\n",
            "2022-09-28  127.360001         NaN\n",
            "2022-09-29  122.199997         NaN\n",
            "2022-09-30  121.389999         NaN\n",
            "2022-10-03  125.120003         NaN\n",
            "2022-10-04  131.669998         NaN\n",
            "\n",
            "[252 rows x 2 columns]\n"
          ]
        }
      ]
    },
    {
      "cell_type": "code",
      "source": [],
      "metadata": {
        "id": "TMUVSAbEcU9d"
      },
      "execution_count": null,
      "outputs": []
    },
    {
      "cell_type": "code",
      "source": [
        "# create np array for the INDEPENDENT dataset\n",
        "X = np.array(df.drop(['Prediction'], 1))\n",
        "# remove the last n rows\n",
        "X = X[:-forecast_days]\n",
        "# print(X)"
      ],
      "metadata": {
        "colab": {
          "base_uri": "https://localhost:8080/"
        },
        "id": "wdfA4QUDgdK4",
        "outputId": "753067d9-7521-427e-b8cd-16c6772fd0c1"
      },
      "execution_count": null,
      "outputs": [
        {
          "output_type": "stream",
          "name": "stderr",
          "text": [
            "/usr/local/lib/python3.7/dist-packages/ipykernel_launcher.py:2: FutureWarning: In a future version of pandas all arguments of DataFrame.drop except for the argument 'labels' will be keyword-only\n",
            "  \n"
          ]
        }
      ]
    },
    {
      "cell_type": "code",
      "source": [
        "# Create the DEPENDENT dataset\n",
        "y = np.array(df[\"Prediction\"])\n",
        "# Get all y values except the last 'forecast_days' rows\n",
        "y = y[:-forecast_days]\n",
        "# print(y)"
      ],
      "metadata": {
        "id": "031ilXf5hAHM"
      },
      "execution_count": null,
      "outputs": []
    },
    {
      "cell_type": "code",
      "source": [
        "# split dataset into 80% training and 20% testing\n",
        "X_train, X_test, y_train, y_test = train_test_split(X, y, test_size=0.1)\n"
      ],
      "metadata": {
        "id": "D20ZKZEVhv9k"
      },
      "execution_count": null,
      "outputs": []
    },
    {
      "cell_type": "code",
      "source": [
        "# create and train the SVM (regressor)\n",
        "svr_rbf = SVR(kernel='rbf', C=1e3, gamma=0.1)\n",
        "svr_rbf.fit(X_train, y_train)"
      ],
      "metadata": {
        "colab": {
          "base_uri": "https://localhost:8080/"
        },
        "id": "dcSKDJjViTnW",
        "outputId": "a5771742-1df8-4282-d6c0-5cb8d25683e3"
      },
      "execution_count": null,
      "outputs": [
        {
          "output_type": "execute_result",
          "data": {
            "text/plain": [
              "SVR(C=1000.0, gamma=0.1)"
            ]
          },
          "metadata": {},
          "execution_count": 28
        }
      ]
    },
    {
      "cell_type": "code",
      "source": [
        "# testing model\n",
        "svm_confidence = svr_rbf.score(X_test, y_test)\n",
        "print(f\"svm_confidence: {svm_confidence}\")\n"
      ],
      "metadata": {
        "colab": {
          "base_uri": "https://localhost:8080/"
        },
        "id": "z34PCAxSit7o",
        "outputId": "7166c258-3d5c-4d57-ab7c-f7d04bfd22f7"
      },
      "execution_count": null,
      "outputs": [
        {
          "output_type": "stream",
          "name": "stdout",
          "text": [
            "svm_confidence: 0.5904884945196258\n"
          ]
        }
      ]
    },
    {
      "cell_type": "code",
      "source": [
        "# set x_forecast \n",
        "x_forecast = np.array(df.drop(['Prediction'],1))[-forecast_days:]\n",
        "print(x_forecast)"
      ],
      "metadata": {
        "id": "W8-UrxGumDP3",
        "colab": {
          "base_uri": "https://localhost:8080/"
        },
        "outputId": "6d1b7908-8d2a-44ca-c302-14c5273d67e6"
      },
      "execution_count": null,
      "outputs": [
        {
          "output_type": "stream",
          "name": "stdout",
          "text": [
            "[[132.610001]\n",
            " [125.610001]\n",
            " [125.160004]\n",
            " [122.279999]\n",
            " [124.129997]\n",
            " [127.360001]\n",
            " [122.199997]\n",
            " [121.389999]\n",
            " [125.120003]\n",
            " [131.669998]]\n"
          ]
        },
        {
          "output_type": "stream",
          "name": "stderr",
          "text": [
            "/usr/local/lib/python3.7/dist-packages/ipykernel_launcher.py:2: FutureWarning: In a future version of pandas all arguments of DataFrame.drop except for the argument 'labels' will be keyword-only\n",
            "  \n"
          ]
        }
      ]
    },
    {
      "cell_type": "code",
      "source": [
        "# print support vector regression model prediction for the next 'forecast_days'\n",
        "svm_prediction = svr_rbf.predict(x_forecast)\n",
        "print(svm_prediction)\n",
        "dataframe = pd.DataFrame(svm_prediction)\n",
        "dataframe.columns = ['Close']\n",
        "dataframe.to_csv('rishit_khandelwal_Impl_1.csv')"
      ],
      "metadata": {
        "id": "oJtMZ-0TkSPQ",
        "colab": {
          "base_uri": "https://localhost:8080/"
        },
        "outputId": "1811c3f3-ced7-490f-fbea-8c9812039442"
      },
      "execution_count": null,
      "outputs": [
        {
          "output_type": "stream",
          "name": "stdout",
          "text": [
            "[121.75740093 190.25772867 199.73354152 222.95582357 214.31812256\n",
            " 143.9324991  223.06826972 223.73502845 200.4842257  125.93730044]\n"
          ]
        }
      ]
    }
  ]
}